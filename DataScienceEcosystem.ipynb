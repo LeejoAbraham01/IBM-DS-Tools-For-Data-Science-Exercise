{
 "cells": [
  {
   "cell_type": "markdown",
   "id": "ee762798-8995-49d5-99c3-5964d277471e",
   "metadata": {},
   "source": [
    "# Data Science Tools and Ecosystem"
   ]
  },
  {
   "cell_type": "markdown",
   "id": "a67e531a-f019-4e0b-9c24-4d45e1cf2941",
   "metadata": {},
   "source": [
    "In this notebook, Data Science Tools and Ecosystem are summarized."
   ]
  },
  {
   "cell_type": "markdown",
   "id": "a627329e-7f0c-4255-9b7b-ab41068717a7",
   "metadata": {},
   "source": [
    "**Objectives:**\n",
    "* List data science languages\n",
    "* List data science libraries\n",
    "* Table of Data Science tools\n",
    "* Introducing arithmetic expression examples\n",
    "* Multiply and add numbers"
   ]
  },
  {
   "cell_type": "markdown",
   "id": "7b175290-d9eb-486a-b933-4a3c074a445d",
   "metadata": {},
   "source": [
    "Some of the popular languages that Data Scientists use are:\n",
    "1) Python\n",
    "2) R\n",
    "3) Java\n",
    "4) C++"
   ]
  },
  {
   "cell_type": "markdown",
   "id": "21db82ee-9522-42dc-a2af-68187fc71204",
   "metadata": {},
   "source": [
    "Some of the commonly used python libraries used by Data Scientists include:\n",
    "1) Numpy\n",
    "2) Pandas\n",
    "3) Scikit-Learn"
   ]
  },
  {
   "cell_type": "markdown",
   "id": "e1bb8bca-0c3c-48a1-a5cd-0e5f9909049c",
   "metadata": {},
   "source": [
    "|Data Science tools|\n",
    "|------------------|\n",
    "|Jupyter Notebooks|\n",
    "|RStudio|\n",
    "|VS Code (Visual Studio Code)|"
   ]
  },
  {
   "cell_type": "markdown",
   "id": "ad78201c-9ea4-4acd-92ec-6c96e06a3c3b",
   "metadata": {},
   "source": [
    "### Below are a few examples of evaluating arithmetic expressions in Python"
   ]
  },
  {
   "cell_type": "code",
   "execution_count": 3,
   "id": "79237d77-dae5-44f4-8a4e-95c6ecdb019d",
   "metadata": {
    "tags": []
   },
   "outputs": [
    {
     "data": {
      "text/plain": [
       "17"
      ]
     },
     "execution_count": 3,
     "metadata": {},
     "output_type": "execute_result"
    }
   ],
   "source": [
    "# This a simple arithmetic expression to mutiply then add integers\n",
    "(3*4)+5"
   ]
  },
  {
   "cell_type": "code",
   "execution_count": 5,
   "id": "0a9ec3a2-d5fc-4cce-b26c-8adb3a5baa38",
   "metadata": {
    "tags": []
   },
   "outputs": [
    {
     "data": {
      "text/plain": [
       "3.3333333333333335"
      ]
     },
     "execution_count": 5,
     "metadata": {},
     "output_type": "execute_result"
    }
   ],
   "source": [
    "# This will convert 200 minutes to hours by diving by 60\n",
    "200 / 60"
   ]
  },
  {
   "cell_type": "markdown",
   "id": "bb59a14a-4a80-4c01-9dea-2613336173a0",
   "metadata": {
    "tags": []
   },
   "source": [
    "## Author\n",
    "Leejo Aby Abraham"
   ]
  },
  {
   "cell_type": "code",
   "execution_count": null,
   "id": "90ea286b-13d8-48a4-b609-947d809a98d4",
   "metadata": {},
   "outputs": [],
   "source": []
  }
 ],
 "metadata": {
  "kernelspec": {
   "display_name": "Python",
   "language": "python",
   "name": "conda-env-python-py"
  },
  "language_info": {
   "codemirror_mode": {
    "name": "ipython",
    "version": 3
   },
   "file_extension": ".py",
   "mimetype": "text/x-python",
   "name": "python",
   "nbconvert_exporter": "python",
   "pygments_lexer": "ipython3",
   "version": "3.7.12"
  }
 },
 "nbformat": 4,
 "nbformat_minor": 5
}
